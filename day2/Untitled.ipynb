{
 "cells": [
  {
   "cell_type": "code",
   "execution_count": 16,
   "id": "18a02a8d-f518-475f-adaf-b415bfc858aa",
   "metadata": {},
   "outputs": [
    {
     "name": "stdout",
     "output_type": "stream",
     "text": [
      "72706\n"
     ]
    }
   ],
   "source": [
    "def valid(round):\n",
    "    maxes = {\"red\": 12, \"green\": 13, \"blue\": 14}\n",
    "    for c,n in round.items():\n",
    "        if maxes[c]<n:\n",
    "            return False\n",
    "    return True\n",
    "\n",
    "s = 0\n",
    "with open(\"day2/input.txt\", 'r') as f:\n",
    "    r = f.read()\n",
    "    for line in r.split('\\n'):\n",
    "        spline = line.split(':')\n",
    "        id = int(spline[0].split(' ')[1])\n",
    "\n",
    "        flag = True\n",
    "        maxes = maxes = {\"red\": 0, \"green\": 0, \"blue\": 0}\n",
    "        for round_str in spline[1].split(';'):\n",
    "            colors = [x.strip().split(' ') for x in round_str.strip().split(',')]\n",
    "            dic = {x[1]: int(x[0]) for x in colors}\n",
    "            # if(not valid(dic)):\n",
    "            #     flag = False\n",
    "            #     break\n",
    "            maxes = {x:max(y, dic.get(x,0)) for x,y in maxes.items()}\n",
    "        \n",
    "        # if(flag):\n",
    "        #     print(line)\n",
    "        #     s += id\n",
    "        res = 1\n",
    "        for v in maxes.values():\n",
    "            res = res*v\n",
    "        s+=res\n",
    "\n",
    "print(s)"
   ]
  }
 ],
 "metadata": {
  "kernelspec": {
   "display_name": "Python 3 (ipykernel)",
   "language": "python",
   "name": "python3"
  },
  "language_info": {
   "codemirror_mode": {
    "name": "ipython",
    "version": 3
   },
   "file_extension": ".py",
   "mimetype": "text/x-python",
   "name": "python",
   "nbconvert_exporter": "python",
   "pygments_lexer": "ipython3",
   "version": "3.8.3"
  }
 },
 "nbformat": 4,
 "nbformat_minor": 5
}
