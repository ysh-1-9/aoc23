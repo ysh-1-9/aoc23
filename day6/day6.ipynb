{
 "cells": [
  {
   "cell_type": "code",
   "execution_count": 4,
   "id": "581813b6-ae47-4332-88bb-c8115779633c",
   "metadata": {},
   "outputs": [
    {
     "name": "stdout",
     "output_type": "stream",
     "text": [
      "before min:  215106386584000\n",
      "at min:  215106415129089\n",
      "at max:  215106415129089\n",
      "after min:  215106386584000\n",
      "28545089\n",
      "28545089\n"
     ]
    }
   ],
   "source": [
    "# input = \"Time:        40     92     97     90\n",
    "# Distance:   215   1064   1505   1100\n",
    "import math\n",
    "times = [(40929790, 215106415051100)]\n",
    "\n",
    "a =1 \n",
    "for x in times:\n",
    "    t = x[0]\n",
    "    d = x[1]\n",
    "\n",
    "    delta = ((t**2)/4.0 - d)**0.5\n",
    "    mi = math.ceil(t/2.0 - delta)\n",
    "    ma = int(t/2.0 + delta)\n",
    "\n",
    "    a*=(ma-mi+1)\n",
    "    print(\"before min: \", (mi-1)*(t-mi+1))\n",
    "    print(\"at min: \", mi*(t-mi))\n",
    "\n",
    "    print(\"at max: \", (ma)*(t-ma))\n",
    "    print(\"after min: \", (ma+1)*(t-ma-1))\n",
    "    print(ma-mi+1)\n",
    "\n",
    "print(a)"
   ]
  },
  {
   "cell_type": "code",
   "execution_count": null,
   "id": "0b3dec6e-c0cd-498a-8c42-dda7c9e3750a",
   "metadata": {},
   "outputs": [],
   "source": []
  }
 ],
 "metadata": {
  "kernelspec": {
   "display_name": "Python 3 (ipykernel)",
   "language": "python",
   "name": "python3"
  },
  "language_info": {
   "codemirror_mode": {
    "name": "ipython",
    "version": 3
   },
   "file_extension": ".py",
   "mimetype": "text/x-python",
   "name": "python",
   "nbconvert_exporter": "python",
   "pygments_lexer": "ipython3",
   "version": "3.8.6"
  }
 },
 "nbformat": 4,
 "nbformat_minor": 5
}
