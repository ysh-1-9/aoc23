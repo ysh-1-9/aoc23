{
 "cells": [
  {
   "cell_type": "code",
   "execution_count": 3,
   "id": "e65f9857-6032-4c25-aa03-0ccef0e20dbc",
   "metadata": {},
   "outputs": [],
   "source": [
    "def process(numbers):\n",
    "    flag = sum(1 if n!=0 else 0 for n in numbers)\n",
    "\n",
    "    if flag == 0:\n",
    "        return 0\n",
    "    else:\n",
    "        diffs = []\n",
    "        for idx,n in enumerate(numbers[:-1]):\n",
    "            diffs.append(numbers[idx+1]-n)\n",
    "        return numbers[0]-process(diffs)\n",
    "\n",
    "s = 0\n",
    "with open(\"input.txt\", \"r\") as f:\n",
    "    l = f.read()\n",
    "    for line in l.split('\\n'):\n",
    "        s+=process([int (x) for x in line.split()])"
   ]
  },
  {
   "cell_type": "code",
   "execution_count": 4,
   "id": "011ce1c9-a4e3-45b0-9969-bb79cf9e2c5a",
   "metadata": {},
   "outputs": [
    {
     "name": "stdout",
     "output_type": "stream",
     "text": [
      "1108\n"
     ]
    }
   ],
   "source": [
    "print(s)"
   ]
  },
  {
   "cell_type": "code",
   "execution_count": null,
   "id": "ac7b524e-c7b0-47c4-8511-1e884a5f5436",
   "metadata": {},
   "outputs": [],
   "source": []
  }
 ],
 "metadata": {
  "kernelspec": {
   "display_name": "Python 3 (ipykernel)",
   "language": "python",
   "name": "python3"
  },
  "language_info": {
   "codemirror_mode": {
    "name": "ipython",
    "version": 3
   },
   "file_extension": ".py",
   "mimetype": "text/x-python",
   "name": "python",
   "nbconvert_exporter": "python",
   "pygments_lexer": "ipython3",
   "version": "3.8.3"
  }
 },
 "nbformat": 4,
 "nbformat_minor": 5
}
