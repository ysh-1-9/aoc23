{
 "cells": [
  {
   "cell_type": "code",
   "execution_count": 31,
   "id": "843baf7a-af90-4604-bd93-d3f2a4750f64",
   "metadata": {},
   "outputs": [],
   "source": [
    "grid = []\n",
    "\n",
    "with open(\"input.txt\", \"r\") as file:\n",
    "    f = file.read()\n",
    "    for line in f.split('\\n'):\n",
    "        grid.append(list(line))\n"
   ]
  },
  {
   "cell_type": "code",
   "execution_count": 55,
   "id": "5fd4e239-b711-4d7f-b533-372fbee80d0d",
   "metadata": {},
   "outputs": [],
   "source": [
    "def isSymbol(x):\n",
    "    return not x.isdigit() and x != '.'\n",
    "\n",
    "def getVicinity(y, start, end):\n",
    "    vicinity = [(y-1,x) for x in range(start-1, end+1)]+[(y+1,x) for x in range(start-1, end+1)]+[(y, start-1), (y, end)]\n",
    "    return vicinity\n",
    "\n",
    "# start is inclusive, end is not\n",
    "def capture(y, start, end):\n",
    "    #print(grid[y][start:end])\n",
    "    number = int(''.join(grid[y][start:end]))\n",
    "    \n",
    "    vicinity = getVicinity(y, start, end)\n",
    "    for py, px in vicinity:\n",
    "        try:\n",
    "            if isSymbol(grid[py][px]):\n",
    "                return number\n",
    "        except IndexError:\n",
    "            continue\n",
    "    return 0\n",
    "\n",
    "# number of, product\n",
    "gears = [[[0,1] for _ in range(len(grid[0]))] for _ in range(len(grid)) ]\n",
    "def add_gear(y, start, end):\n",
    "    vicinity = getVicinity(y, start, end)\n",
    "    for yg,x in vicinity:\n",
    "        try:\n",
    "            if grid[yg][x] == \"*\": \n",
    "                oldie = gears[yg][x]\n",
    "                oldie[0] += 1\n",
    "                oldie[1] *= int(''.join(grid[y][start:end]))\n",
    "                gears[yg][x] = oldie\n",
    "        except IndexError:\n",
    "            continue\n",
    "\n",
    "s = 0\n",
    "for y, line in enumerate(grid):\n",
    "    reading = False\n",
    "    start_idx = None\n",
    "    for x, ch in enumerate(line):\n",
    "        if ch.isdigit():\n",
    "            if reading is not True:\n",
    "                reading = True\n",
    "                start_idx = x\n",
    "            if x == len(line)-1:\n",
    "                n = capture(y, start_idx, x+1)\n",
    "                if n!= 0:\n",
    "                    add_gear(y, start_idx, x+1)\n",
    "                #print(n)\n",
    "                s+=n\n",
    "        elif reading is True:\n",
    "            n = capture(y, start_idx, x)\n",
    "            #print(n)\n",
    "            if n!= 0:\n",
    "                add_gear(y, start_idx, x)\n",
    "            s+=n\n",
    "            reading = False\n",
    "        else:\n",
    "            continue\n",
    "\n",
    "#print(gears)"
   ]
  },
  {
   "cell_type": "code",
   "execution_count": 56,
   "id": "90057e45-b215-4fb2-9fc1-e5cc8020791d",
   "metadata": {},
   "outputs": [
    {
     "name": "stdout",
     "output_type": "stream",
     "text": [
      "532445\n"
     ]
    }
   ],
   "source": [
    "print(s)"
   ]
  },
  {
   "cell_type": "code",
   "execution_count": 57,
   "id": "24dc9b42-7f88-4faf-8f2e-96ef13ed4b48",
   "metadata": {},
   "outputs": [
    {
     "name": "stdout",
     "output_type": "stream",
     "text": [
      "79842967\n"
     ]
    }
   ],
   "source": [
    "p2s = 0\n",
    "\n",
    "for y in gears:\n",
    "    for x in y:\n",
    "        if x[0] == 2:\n",
    "            p2s+=x[1]\n",
    "\n",
    "print(p2s)"
   ]
  }
 ],
 "metadata": {
  "kernelspec": {
   "display_name": "Python 3 (ipykernel)",
   "language": "python",
   "name": "python3"
  },
  "language_info": {
   "codemirror_mode": {
    "name": "ipython",
    "version": 3
   },
   "file_extension": ".py",
   "mimetype": "text/x-python",
   "name": "python",
   "nbconvert_exporter": "python",
   "pygments_lexer": "ipython3",
   "version": "3.8.3"
  }
 },
 "nbformat": 4,
 "nbformat_minor": 5
}
