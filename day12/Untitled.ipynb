{
 "cells": [
  {
   "cell_type": "code",
   "execution_count": 76,
   "id": "662862e8-4eb5-465e-a5d5-38f378f754a4",
   "metadata": {},
   "outputs": [],
   "source": [
    "'''\n",
    "2 things - how many ways of fitting this number n into [:i] such that\n",
    "    1. nh -> s[i] == \"#\"\n",
    "    2. nd -> s[i] == \".\"\n",
    "\n",
    "    if s[i] is already #, then nh => is nh for [n-1][i-1] -> if i-1 becomes zero: zero\n",
    "                                                       -> if n-1 becomes zero: nd[previous number][left_end-1];\n",
    "                               nd => is zero.\n",
    "\n",
    "    if s[i] is \".\", then nh => 0\n",
    "                         nd => nh+nd for n,i-1\n",
    "                               -> no i-1: zero ways\n",
    "                               -> no n: \n",
    "    if its not (it is ?), then \n",
    "                            nh => ? = \"#\": (put n so it ends at i)\n",
    "                            nd => ? = \".\": nd is nh[n][i-1] + nd[n][i-1]\n",
    "                                                        -> \n",
    "\n",
    "(put n so it ends at i)\n",
    "    - n cannot extend beyond the left end of the cell\n",
    "    - all numbers (in same cell) between start of cell and left end of n must be ?\n",
    "\n",
    "        nd[previous n][left_end -1]\n",
    "    if  so, answer is nh+nd for previous n, previous cell\n",
    "                                                    -> no previous n, but previous cell(s): 1 way, everything in cell(s) must be ?\n",
    "                                                    -> previous n, but no previous cell: zero\n",
    "                                                    -> no both: one\n",
    "'''\n",
    "\n",
    "'''\n",
    "\n",
    "    if s[i] == \"#\" or s[i] == \"?\":\n",
    "        left_end = i-n+1\n",
    "\n",
    "        if s[left_end:i+1] is all #s or ?s: nd[previous_number][left_end-1]\n",
    "                                            -> no previous number, but left_end-1: 1 way, everything in <= left_end-1 must be ? or \".\"\n",
    "                                            -> previous number, no left_end-1: zero\n",
    "                                            -> no both: one way\n",
    "        else zero\n",
    "\n",
    "    if s[i] == \".\" or s[i] == \"?\":\n",
    "        nh+nd for [same_number][i-1]\n",
    "                -> no i-1: zero\n",
    "\n",
    "'''\n",
    "\n",
    "\n",
    "def part1(pattern: str, numbers: list) -> int:\n",
    "\n",
    "    nh = [[None for _ in pattern] for _ in numbers]\n",
    "    nd = [[None for _ in pattern] for _ in numbers]\n",
    "\n",
    "    for idx_n, n in enumerate(numbers):\n",
    "        for i, ch in enumerate(pattern):\n",
    "\n",
    "            ### nh\n",
    "            nht = 0\n",
    "            if ch in [\"#\", \"?\"]:\n",
    "                left_end = i-n+1\n",
    "                \n",
    "                if left_end<0:\n",
    "                    nht = 0\n",
    "                else:        \n",
    "                    if sum(c==\".\" for c in pattern[left_end:i+1])>0:\n",
    "                        nht = 0\n",
    "                    else:\n",
    "                        if left_end == 0:\n",
    "                            if idx_n == 0:\n",
    "                                nht = 1\n",
    "                            else:\n",
    "                                nht = 0\n",
    "                        else:\n",
    "                            if idx_n == 0:\n",
    "                                if sum(c==\"#\" for c in pattern[:left_end])>0:\n",
    "                                    nht = 0\n",
    "                                else:\n",
    "                                    nht = 1\n",
    "                            else:\n",
    "                                nht = nd[idx_n-1][left_end-1]\n",
    "            nh[idx_n][i] = nht\n",
    "            \n",
    "            ### nd\n",
    "            ndt = 0\n",
    "            if ch in [\".\", \"?\"]:\n",
    "                if i-1<0:\n",
    "                    ndt = 0\n",
    "                else:\n",
    "                    ndt = nh[idx_n][i-1]+nd[idx_n][i-1]\n",
    "            nd[idx_n][i] = ndt\n",
    "    #print(nh)\n",
    "    #print(nd)\n",
    "    r = 0\n",
    "    if pattern[-1] in [\"#\", \"?\"] :\n",
    "        r += nh[-1][-1]\n",
    "    if pattern[-1] in [\".\", \"?\"] :\n",
    "        r += nd[-1][-1]\n",
    "    return r"
   ]
  },
  {
   "cell_type": "code",
   "execution_count": 71,
   "id": "0188a489-9970-4609-a4c4-1f043f8f3956",
   "metadata": {},
   "outputs": [
    {
     "name": "stdout",
     "output_type": "stream",
     "text": [
      "[[0, 0, 1, 1, 1, 1, 1, 0], [0, 0, 0, 0, 1, 0, 1, 2]]\n",
      "[[0, 0, 0, 1, 0, 1, 2, 3], [0, 0, 0, 0, 0, 1, 1, 2]]\n"
     ]
    },
    {
     "data": {
      "text/plain": [
       "4"
      ]
     },
     "execution_count": 71,
     "metadata": {},
     "output_type": "execute_result"
    }
   ],
   "source": [
    "part1(\"????#???\", [3,1])"
   ]
  },
  {
   "cell_type": "code",
   "execution_count": 73,
   "id": "32f21fa4-bd51-435d-b6a8-567456985550",
   "metadata": {},
   "outputs": [
    {
     "data": {
      "text/plain": [
       "[1, 2, 3, 1, 2, 3]"
      ]
     },
     "execution_count": 73,
     "metadata": {},
     "output_type": "execute_result"
    }
   ],
   "source": [
    "[1,2,3]*2"
   ]
  },
  {
   "cell_type": "code",
   "execution_count": null,
   "id": "83a9b4c5-6c27-4dd2-b93b-aede00dbcea4",
   "metadata": {},
   "outputs": [],
   "source": [
    "s = 0\n",
    "with open(\"input.txt\", \"r\") as f:\n",
    "    lines = f.read().split('\\n')\n",
    "    for line in lines:\n",
    "        pattern, numbers = line.split()\n",
    "        numbers = [int(x) for x in numbers.strip().split(',')]\n",
    "\n",
    "        pattern = \"?\".join(pattern for _ in range(5))\n",
    "        numbers = numbers*5\n",
    "        \n",
    "        ans = part1(pattern, numbers)\n",
    "        #print(f\"{pattern}, {numbers}: {ans}\")\n",
    "        s += ans\n",
    "\n",
    "print(s)"
   ]
  },
  {
   "cell_type": "code",
   "execution_count": null,
   "id": "a163059e-39ef-46dd-954b-aade0869bc69",
   "metadata": {},
   "outputs": [],
   "source": []
  }
 ],
 "metadata": {
  "kernelspec": {
   "display_name": "Python 3 (ipykernel)",
   "language": "python",
   "name": "python3"
  },
  "language_info": {
   "codemirror_mode": {
    "name": "ipython",
    "version": 3
   },
   "file_extension": ".py",
   "mimetype": "text/x-python",
   "name": "python",
   "nbconvert_exporter": "python",
   "pygments_lexer": "ipython3",
   "version": "3.8.3"
  }
 },
 "nbformat": 4,
 "nbformat_minor": 5
}
